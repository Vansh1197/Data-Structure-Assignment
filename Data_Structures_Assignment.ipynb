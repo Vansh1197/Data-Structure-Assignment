{
  "nbformat": 4,
  "nbformat_minor": 0,
  "metadata": {
    "colab": {
      "provenance": []
    },
    "kernelspec": {
      "name": "python3",
      "display_name": "Python 3"
    },
    "language_info": {
      "name": "python"
    }
  },
  "cells": [
    {
      "cell_type": "markdown",
      "source": [
        "Data Types and Structures Questions"
      ],
      "metadata": {
        "id": "LTKyyk_2esfm"
      }
    },
    {
      "cell_type": "markdown",
      "source": [
        "1.What are data structures, and why are they important?\n",
        " >> Data structure is a way of organising , storing and managing data in any device so that it increases the efficiency of the user and helps to decode the complex tasks .\n",
        "\n",
        " They are crucial as it helps in manipulation of data acccording to user experince and also helps in retrival of data in case of critical situations from any complex structures ."
      ],
      "metadata": {
        "id": "FHpl22xWPC-U"
      }
    },
    {
      "cell_type": "markdown",
      "source": [
        "2.Explain the difference between mutable and immutable data types with examples?\n",
        "\n",
        ">> The mutable data type can be modified once the data creation is completed in the system by the user using python . The Immutable data is the one which cannot be changed by the user once it has been created in system . Some examples include :\n",
        "\n",
        "Mutable - Lists , dictionary as their content can be changed\n",
        "\n",
        "Immutable - Strigs are Immutable as if any operation is performed on them , it results in changing he entire characeter of the operation."
      ],
      "metadata": {
        "id": "0FFCnMQwPEp6"
      }
    },
    {
      "cell_type": "markdown",
      "source": [
        "3.What are the main differences between lists and tuples in Python?\n",
        " >> The main difference between Lists and Tuple are : the list are mutable in nature that means their elements can be changed added or removed or modified after creation, whereas Tuples are Immutable in Nature that means their element cannot be changed after creation."
      ],
      "metadata": {
        "id": "CllT9IYvPF89"
      }
    },
    {
      "cell_type": "markdown",
      "source": [
        "4.Describe how dictionaries store data?\n",
        " >> The dictionaries in python are unordered collection of key value pairs where each key is unique and is mapped to a value internally, it uses a hashtable to store and retrieve value efficiently based on hash of the keys."
      ],
      "metadata": {
        "id": "pi4o2-zmPGV-"
      }
    },
    {
      "cell_type": "markdown",
      "source": [
        "5.Why might you use a set instead of a list in Python?\n",
        "  >> A set in python are unordered collection of unique and immutable element, optimized for fast membership testing and set operations like Union, Intersection and difference."
      ],
      "metadata": {
        "id": "ss_y8hayPGrV"
      }
    },
    {
      "cell_type": "markdown",
      "source": [
        "6.What is a string in Python, and how is it different from a list?\n",
        " >> A string in Python is immutable sequence of Unicode Characters used to represent text wheas a list is mutable in nature."
      ],
      "metadata": {
        "id": "hC7lVJiFPHL2"
      }
    },
    {
      "cell_type": "markdown",
      "source": [
        "7.How do tuples ensure data integrity in Python?'\n",
        " >>  A tuple ensue data intigrity in Python by being Immutable means once its created its element cannot be changes or modified."
      ],
      "metadata": {
        "id": "DqdbgaprPHmL"
      }
    },
    {
      "cell_type": "markdown",
      "source": [
        "8.What is a hash table, and how does it relate to dictionaries in Python?\n",
        " >> A hash table is a data structure that stores the key value pairs and uses a hash function to compute an index for storing and retrieving data efficiently, In Python Dictionaries are Implemented using hash tables allowing for fast access, insertion or deletion based on keys."
      ],
      "metadata": {
        "id": "AVar3UL2PIK3"
      }
    },
    {
      "cell_type": "markdown",
      "source": [
        "9.Can lists contain different data types in Python?\n",
        " >> Yes a list contain different type in python like Integers, Strings, Float and even other list and object all within same list.\n",
        "\n",
        "---\n",
        "\n"
      ],
      "metadata": {
        "id": "G3VVmHhsPIgg"
      }
    },
    {
      "cell_type": "markdown",
      "source": [
        "10.Explain why strings are immutable in Python?\n",
        " >> Strings are Immutable in Python beacuse it ensures data Integrity that helps to prevent accidental damages to data, string are memory efficient that helps to enabling string intering, allowing resuse of common strings."
      ],
      "metadata": {
        "id": "5bNpPxw4PCvy"
      }
    },
    {
      "cell_type": "markdown",
      "source": [
        "11.What advantages do dictionaries offer over lists for certain tasks?\n",
        " >> The advantages tha dictionaries offer over list for certain tasks beacuse: dictionaries are key value pairs that offer fast access to data using unique keys making them ideal for tasks that require quick lookup, organized data mapping and meaningful association of elements."
      ],
      "metadata": {
        "id": "D9RHNDLvQCCs"
      }
    },
    {
      "cell_type": "markdown",
      "source": [
        ".Describe a scenario where using a tuple would be preferable over a list?'\n",
        " >> A scenario where using a tuple would be preferable over list are when the data is not needed to be changed, to ensure data integrity and The collection needs to be used as a dictionary key or stored in a set."
      ],
      "metadata": {
        "id": "ky9eOrg1QB3O"
      }
    },
    {
      "cell_type": "markdown",
      "source": [
        "12.How do sets handle duplicate values in Python?\n",
        " >> In Python a set automatically remove duplicate values, A set is an unordered collection of unique elements, meaning that any repeated values are discarded when added. If you attempt to add a duplicate element to a set, it will simply be ignored."
      ],
      "metadata": {
        "id": "1Dc3v_7OQCzY"
      }
    },
    {
      "cell_type": "markdown",
      "source": [
        "13.How does the “in” keyword work differently for lists and dictionaries?\n",
        " >> The in keyword checks for the presence of a value in a list and checks for the presence of a key in a dictionary."
      ],
      "metadata": {
        "id": "QdmPa7_2QDR2"
      }
    },
    {
      "cell_type": "markdown",
      "source": [
        "14.Can you modify the elements of a tuple? Explain why or why not?\n",
        " >> No, you cannot modify the elements of a tuple because tuples are immutable in Python. Once a tuple is created, its contents cannot be changed. This immutability ensures that the data remains consistent and protected from accidental modifications. If you need to change the elements, you'd have to create a new tuple."
      ],
      "metadata": {
        "id": "vLCD-PoqQvbz"
      }
    },
    {
      "cell_type": "markdown",
      "source": [
        "17.Describe the time complexity of accessing elements in a dictionary\n",
        " >> The time complexity of accessing elements in a dictionary is O(1) on average, meaning it takes constant time, regardless of the size of the dictionary. However, in rare cases of hash collisions, it can degrade to O(n)."
      ],
      "metadata": {
        "id": "FdlLVwrGQw3-"
      }
    },
    {
      "cell_type": "markdown",
      "source": [
        "18.In what situations are lists preferred over dictionaries3\n",
        " >> Lists are preferred over dictionaries when you need an ordered collection of items, access elements by index, or work with a sequence of homogeneous data without key-value pairs."
      ],
      "metadata": {
        "id": "JIw_Fnd8Qxnp"
      }
    },
    {
      "cell_type": "markdown",
      "source": [
        "19.Why are dictionaries considered unordered, and how does that affect data retrieval\n",
        " >> Dictionaries are considered unordered because the key-value pairs are stored based on the hash of the keys, not in a specific order. This means the order of items is not guaranteed, though Python preserves insertion order during iteration."
      ],
      "metadata": {
        "id": "86vhf9RVQx9y"
      }
    },
    {
      "cell_type": "markdown",
      "source": [
        "20.Explain the difference between a list and a dictionary in terms of data retrieval.\n",
        " >> A list retrieves data by index position, maintaining order, while a dictionary retrieves data by key unique identifier, with fast access due to hashing, but no guaranteed order."
      ],
      "metadata": {
        "id": "ZMeF-dEpQyaK"
      }
    },
    {
      "cell_type": "markdown",
      "source": [
        "Practical Questions"
      ],
      "metadata": {
        "id": "l4xbWCV8ezTQ"
      }
    },
    {
      "cell_type": "code",
      "source": [
        "#  Write a code to create a string with your name and print it\n",
        "Your_Name = (\"Vansh\")\n",
        "print(Your_Name)"
      ],
      "metadata": {
        "id": "cIu8BAy1TPby",
        "colab": {
          "base_uri": "https://localhost:8080/"
        },
        "outputId": "c4376685-b1fd-4add-f45e-cfd81006448a"
      },
      "execution_count": 7,
      "outputs": [
        {
          "output_type": "stream",
          "name": "stdout",
          "text": [
            "Vansh\n"
          ]
        }
      ]
    },
    {
      "cell_type": "code",
      "source": [
        "# .Write a code to find the length of the string \"Hello World\"\n",
        "my_string = \"Hello World\"\n",
        "string_length = len(my_string)\n",
        "print(string_length)"
      ],
      "metadata": {
        "colab": {
          "base_uri": "https://localhost:8080/"
        },
        "id": "HKZqgyd_S4Iw",
        "outputId": "fd1502cd-5976-4fa3-8929-a313ccce7343"
      },
      "execution_count": 8,
      "outputs": [
        {
          "output_type": "stream",
          "name": "stdout",
          "text": [
            "11\n"
          ]
        }
      ]
    },
    {
      "cell_type": "code",
      "source": [
        "#  Write a code to slice the first 3 characters from the string \"Python Programming\"P\n",
        "my_string = \"Python Programming\"\n",
        "sliced_string = my_string[:3]\n",
        "print(sliced_string)"
      ],
      "metadata": {
        "id": "3ruihRzBTSKu",
        "colab": {
          "base_uri": "https://localhost:8080/"
        },
        "outputId": "01d63b43-8ea1-415c-8b0e-3ac9a9ca87a4"
      },
      "execution_count": 9,
      "outputs": [
        {
          "output_type": "stream",
          "name": "stdout",
          "text": [
            "Pyt\n"
          ]
        }
      ]
    },
    {
      "cell_type": "code",
      "source": [
        "#  Write a code to convert the string \"hello\" to uppercase\n",
        "my_string = \"hello\"\n",
        "uppercase_string = my_string.upper()\n",
        "print(uppercase_string)"
      ],
      "metadata": {
        "id": "zfeIV4SpTSH3",
        "colab": {
          "base_uri": "https://localhost:8080/"
        },
        "outputId": "6590d6e3-32e2-4308-ff6c-f6a0d3da1adf"
      },
      "execution_count": 10,
      "outputs": [
        {
          "output_type": "stream",
          "name": "stdout",
          "text": [
            "HELLO\n"
          ]
        }
      ]
    },
    {
      "cell_type": "code",
      "source": [
        "# . Write a code to replace the word \"apple\" with \"orange\" in the string \"I like apple\"\n",
        "my_string = \"I like apple\"\n",
        "new_string = my_string.replace(\"apple\", \"orange\")\n",
        "print(new_string)"
      ],
      "metadata": {
        "id": "xEDhEH1OTSEx",
        "colab": {
          "base_uri": "https://localhost:8080/"
        },
        "outputId": "3688be3a-de3e-48b6-8b22-80bd8cacdb64"
      },
      "execution_count": 11,
      "outputs": [
        {
          "output_type": "stream",
          "name": "stdout",
          "text": [
            "I like orange\n"
          ]
        }
      ]
    },
    {
      "cell_type": "code",
      "source": [
        "#   Write a code to create a list with numbers 1 to 5 and print it\n",
        "my_list = [1, 2, 3, 4, 5]\n",
        "print(my_list)"
      ],
      "metadata": {
        "id": "bjif93JlTSBo",
        "colab": {
          "base_uri": "https://localhost:8080/"
        },
        "outputId": "33ba1f3f-1f69-4c25-8acc-0afb40b53185"
      },
      "execution_count": 12,
      "outputs": [
        {
          "output_type": "stream",
          "name": "stdout",
          "text": [
            "[1, 2, 3, 4, 5]\n"
          ]
        }
      ]
    },
    {
      "cell_type": "code",
      "source": [
        "#  Write a code to append the number 10 to the list [1, 2, 3, 4]\n",
        "my_list = [1, 2, 3, 4]\n",
        "my_list.append(10)\n",
        "print(my_list)"
      ],
      "metadata": {
        "id": "CU0YRDMwTR-P",
        "colab": {
          "base_uri": "https://localhost:8080/"
        },
        "outputId": "882d3a9b-8597-486d-894c-a33e29d7b473"
      },
      "execution_count": 13,
      "outputs": [
        {
          "output_type": "stream",
          "name": "stdout",
          "text": [
            "[1, 2, 3, 4, 10]\n"
          ]
        }
      ]
    },
    {
      "cell_type": "code",
      "source": [
        "#  Write a code to remove the number 3 from the list [1, 2, 3, 4, 5]\n",
        "my_list = [1, 2, 3, 4, 5]\n",
        "my_list.remove(3)\n",
        "print(my_list)"
      ],
      "metadata": {
        "id": "ExmBuODRTR7X",
        "colab": {
          "base_uri": "https://localhost:8080/"
        },
        "outputId": "5b6a0a76-97f8-48f5-cadc-cd79baac926e"
      },
      "execution_count": 14,
      "outputs": [
        {
          "output_type": "stream",
          "name": "stdout",
          "text": [
            "[1, 2, 4, 5]\n"
          ]
        }
      ]
    },
    {
      "cell_type": "code",
      "source": [
        "# Write a code to access the second element in the list ['a', 'b', 'c', 'd']\n",
        "my_list = ['a', 'b', 'c', 'd']\n",
        "second_element = my_list[1]\n",
        "print(second_element)"
      ],
      "metadata": {
        "id": "RqS9uh-zTR3_",
        "colab": {
          "base_uri": "https://localhost:8080/"
        },
        "outputId": "816f7bcd-7619-43d2-c7b9-fab3e2b4db90"
      },
      "execution_count": 15,
      "outputs": [
        {
          "output_type": "stream",
          "name": "stdout",
          "text": [
            "b\n"
          ]
        }
      ]
    },
    {
      "cell_type": "code",
      "source": [
        "#  Write a code to reverse the list [10, 20, 30, 40, 50].\n",
        "my_list = [10, 20, 30, 40, 50]\n",
        "my_list.reverse()\n",
        "print(my_list)"
      ],
      "metadata": {
        "id": "RBOOvDK5TR0n"
      },
      "execution_count": null,
      "outputs": []
    },
    {
      "cell_type": "code",
      "source": [
        "#  Write a code to reverse the list [10, 20, 30, 40, 50].\n",
        "my_list = [10, 20, 30, 40, 50]\n",
        "my_list.reverse()\n",
        "print(my_list)"
      ],
      "metadata": {
        "id": "6cfsfiTETRxO",
        "colab": {
          "base_uri": "https://localhost:8080/"
        },
        "outputId": "13b4a589-3c1b-4f36-8b40-609d57d40152"
      },
      "execution_count": 16,
      "outputs": [
        {
          "output_type": "stream",
          "name": "stdout",
          "text": [
            "[50, 40, 30, 20, 10]\n"
          ]
        }
      ]
    },
    {
      "cell_type": "code",
      "source": [
        "#  Write a code to create a tuple with the elements 100, 200, 300 and print it.\n",
        "my_tuple = (100, 200, 300)\n",
        "print(my_tuple)"
      ],
      "metadata": {
        "id": "LRNFKe_YTRtl",
        "colab": {
          "base_uri": "https://localhost:8080/"
        },
        "outputId": "b381d71c-d651-4b46-f7fb-6010d253a5f0"
      },
      "execution_count": 17,
      "outputs": [
        {
          "output_type": "stream",
          "name": "stdout",
          "text": [
            "(100, 200, 300)\n"
          ]
        }
      ]
    },
    {
      "cell_type": "code",
      "source": [
        "#  Write a code to access the second-to-last element of the tuple ('red', 'green', 'blue', 'yellow')\n",
        "my_tuple = ('red', 'green', 'blue', 'yellow')\n",
        "second_to_last_element = my_tuple[-2]\n",
        "print(second_to_last_element)"
      ],
      "metadata": {
        "id": "NzG4KCiSTRpq",
        "colab": {
          "base_uri": "https://localhost:8080/"
        },
        "outputId": "3727f426-55d8-42a4-8e87-a3e603a96374"
      },
      "execution_count": 18,
      "outputs": [
        {
          "output_type": "stream",
          "name": "stdout",
          "text": [
            "blue\n"
          ]
        }
      ]
    },
    {
      "cell_type": "code",
      "source": [
        "#  Write a code to find the minimum number in the tuple (10, 20, 5, 15).\n",
        "my_tuple = (10, 20, 5, 15)\n",
        "minimum_number = min(my_tuple)\n",
        "print(minimum_number)"
      ],
      "metadata": {
        "id": "htQV-72pTRmC",
        "colab": {
          "base_uri": "https://localhost:8080/"
        },
        "outputId": "66075860-99af-43b4-b18e-1e4444dc99ae"
      },
      "execution_count": 19,
      "outputs": [
        {
          "output_type": "stream",
          "name": "stdout",
          "text": [
            "5\n"
          ]
        }
      ]
    },
    {
      "cell_type": "code",
      "source": [
        "#  Write a code to find the index of the element \"cat\" in the tuple ('dog', 'cat', 'rabbit').\n",
        "my_tuple = ('dog', 'cat', 'rabbit')\n",
        "index_of_cat = my_tuple.index('cat')\n",
        "print(index_of_cat)"
      ],
      "metadata": {
        "id": "I0DIGQgvTRhn",
        "colab": {
          "base_uri": "https://localhost:8080/"
        },
        "outputId": "37403bc0-9f49-407e-ee9a-eca9a787817a"
      },
      "execution_count": 20,
      "outputs": [
        {
          "output_type": "stream",
          "name": "stdout",
          "text": [
            "1\n"
          ]
        }
      ]
    },
    {
      "cell_type": "code",
      "source": [
        "# 15. Write a code to create a tuple containing three different fruits and check if \"kiwi\" is in it.\n",
        "my_fruits_tuple = ('apple', 'banana', 'mango')\n",
        "is_kiwi_in_tuple = \"kiwi\" in my_fruits_tuple\n",
        "print(is_kiwi_in_tuple)"
      ],
      "metadata": {
        "id": "EVX3nb-XTRaF",
        "colab": {
          "base_uri": "https://localhost:8080/"
        },
        "outputId": "86cba5c4-f6ef-43b5-a873-fdd5331b2721"
      },
      "execution_count": 24,
      "outputs": [
        {
          "output_type": "stream",
          "name": "stdout",
          "text": [
            "False\n"
          ]
        }
      ]
    },
    {
      "cell_type": "code",
      "source": [
        "# Write a code to create a set with the elements 'a', 'b', 'c' and print it.\n",
        "my_set = {'a', 'b', 'c'}\n",
        "print(my_set)"
      ],
      "metadata": {
        "id": "jTlkBsLyTRVY",
        "colab": {
          "base_uri": "https://localhost:8080/"
        },
        "outputId": "7176a0d2-a87c-466c-c230-9fa6526362b7"
      },
      "execution_count": 25,
      "outputs": [
        {
          "output_type": "stream",
          "name": "stdout",
          "text": [
            "{'a', 'b', 'c'}\n"
          ]
        }
      ]
    },
    {
      "cell_type": "code",
      "source": [
        "# Write a code to clear all elements from the set {1, 2, 3, 4, 5}.\n",
        "my_set = {1, 2, 3, 4, 5}\n",
        "my_set.clear()\n",
        "print(my_set)"
      ],
      "metadata": {
        "id": "tKrr8WeUTRQM",
        "colab": {
          "base_uri": "https://localhost:8080/"
        },
        "outputId": "6a304be0-a630-4da1-9b20-88c980f747a9"
      },
      "execution_count": 26,
      "outputs": [
        {
          "output_type": "stream",
          "name": "stdout",
          "text": [
            "set()\n"
          ]
        }
      ]
    },
    {
      "cell_type": "code",
      "source": [
        "# Write a code to remove the element 4 from the set {1, 2, 3, 4}.\n",
        "my_set = {1, 2, 3, 4}\n",
        "my_set.remove(4)\n",
        "print(my_set)"
      ],
      "metadata": {
        "id": "UGpCt2aUTQrv",
        "colab": {
          "base_uri": "https://localhost:8080/"
        },
        "outputId": "b3f9827a-372c-4976-99ed-80d5a70716b6"
      },
      "execution_count": 27,
      "outputs": [
        {
          "output_type": "stream",
          "name": "stdout",
          "text": [
            "{1, 2, 3}\n"
          ]
        }
      ]
    },
    {
      "cell_type": "code",
      "source": [
        "# Write a code to find the union of two sets {1, 2, 3} and {3, 4, 5}.\n",
        "set1 = {1, 2, 3}\n",
        "set2 = {3, 4, 5}\n",
        "union_set = set1.union(set2)\n",
        "print(union_set)"
      ],
      "metadata": {
        "id": "ExKOD4igTQhy",
        "colab": {
          "base_uri": "https://localhost:8080/"
        },
        "outputId": "b3f3bd76-cbf9-4b29-d1a2-71b2318124d3"
      },
      "execution_count": 28,
      "outputs": [
        {
          "output_type": "stream",
          "name": "stdout",
          "text": [
            "{1, 2, 3, 4, 5}\n"
          ]
        }
      ]
    },
    {
      "cell_type": "code",
      "source": [
        "# Write a code to find the intersection of two sets {1, 2, 3} and {2, 3, 4}.\n",
        "set1 = {1, 2, 3}\n",
        "set2 = {2, 3, 4}\n",
        "intersection_set = set1.intersection(set2)\n",
        "print(intersection_set)"
      ],
      "metadata": {
        "id": "McYKQzSKTQY_",
        "colab": {
          "base_uri": "https://localhost:8080/"
        },
        "outputId": "832dc6a3-ed40-4ceb-e0ae-1cf68d97be39"
      },
      "execution_count": 29,
      "outputs": [
        {
          "output_type": "stream",
          "name": "stdout",
          "text": [
            "{2, 3}\n"
          ]
        }
      ]
    },
    {
      "cell_type": "code",
      "source": [
        "# Write a code to create a dictionary with the keys \"name\", \"age\", and \"city\", and print it.\n",
        "my_dict = {\"name\": \"Alice\", \"age\": 30, \"city\": \"New York\"}\n",
        "print(my_dict)"
      ],
      "metadata": {
        "id": "AtPLC4JWTQOC",
        "colab": {
          "base_uri": "https://localhost:8080/"
        },
        "outputId": "dbb6eb1d-6280-498a-9e33-73d448613938"
      },
      "execution_count": 30,
      "outputs": [
        {
          "output_type": "stream",
          "name": "stdout",
          "text": [
            "{'name': 'Alice', 'age': 30, 'city': 'New York'}\n"
          ]
        }
      ]
    },
    {
      "cell_type": "code",
      "source": [
        "# Write a code to add a new key-value pair \"country\": \"USA\" to the dictionary {'name': 'John', 'age': 25}.\n",
        "my_dict = {'name': 'John', 'age': 25}\n",
        "my_dict[\"country\"] = \"USA\"\n",
        "print(my_dict)"
      ],
      "metadata": {
        "id": "iJKbtjgQTVb2",
        "colab": {
          "base_uri": "https://localhost:8080/"
        },
        "outputId": "293d0463-6bbb-434c-8026-c8d5bffc6e6b"
      },
      "execution_count": 31,
      "outputs": [
        {
          "output_type": "stream",
          "name": "stdout",
          "text": [
            "{'name': 'John', 'age': 25, 'country': 'USA'}\n"
          ]
        }
      ]
    },
    {
      "cell_type": "code",
      "source": [
        "# Write a code to access the value associated with the key \"name\" in the dictionary {'name': 'Alice', 'age': 30}.\n",
        "my_dict = {'name': 'Alice', 'age': 30}\n",
        "name_value = my_dict[\"name\"]\n",
        "print(name_value)"
      ],
      "metadata": {
        "id": "RJs4KGlMTVYu",
        "colab": {
          "base_uri": "https://localhost:8080/"
        },
        "outputId": "17794c53-4bf3-457b-aa63-fdfb8271b0d1"
      },
      "execution_count": 32,
      "outputs": [
        {
          "output_type": "stream",
          "name": "stdout",
          "text": [
            "Alice\n"
          ]
        }
      ]
    },
    {
      "cell_type": "code",
      "source": [
        "# Write a code to remove the key \"age\" from the dictionary {'name': 'Bob', 'age': 22, 'city': 'New York'}.\n",
        "my_dict = {'name': 'Bob', 'age': 22, 'city': 'New York'}\n",
        "del my_dict[\"age\"]\n",
        "print(my_dict)"
      ],
      "metadata": {
        "id": "3ZfcThNdTVVl",
        "colab": {
          "base_uri": "https://localhost:8080/"
        },
        "outputId": "dd83a3fa-bf3b-43ac-9f46-628203b112ff"
      },
      "execution_count": 35,
      "outputs": [
        {
          "output_type": "stream",
          "name": "stdout",
          "text": [
            "{'name': 'Bob', 'city': 'New York'}\n"
          ]
        }
      ]
    },
    {
      "cell_type": "code",
      "source": [
        "# Write a code to check if the key \"city\" exists in the dictionary {'name': 'Alice', 'city': 'Paris'}.\n",
        "my_dict = {'name': 'Alice', 'city': 'Paris'}\n",
        "if \"city\" in my_dict:\n",
        "  print(\"The key 'city' exists in the dictionary.\")\n",
        "else:\n",
        "  print(\"The key 'city' does not exist in the dictionary.\")"
      ],
      "metadata": {
        "id": "0T19XXEeTVTQ",
        "colab": {
          "base_uri": "https://localhost:8080/"
        },
        "outputId": "e95128df-2285-4e73-a727-1ccce4cc525c"
      },
      "execution_count": 36,
      "outputs": [
        {
          "output_type": "stream",
          "name": "stdout",
          "text": [
            "The key 'city' exists in the dictionary.\n"
          ]
        }
      ]
    },
    {
      "cell_type": "code",
      "source": [
        "# Write a code to create a list, a tuple, and a dictionary, and print them all.\n",
        "my_list = [1, 2, 3]\n",
        "my_tuple = (4, 5, 6)\n",
        "my_dict = {\"a\": 7, \"b\": 8, \"c\": 9}\n",
        "\n",
        "print(\"List:\", my_list)\n",
        "print(\"Tuple:\", my_tuple)\n",
        "print(\"Dictionary:\", my_dict)"
      ],
      "metadata": {
        "id": "q5JoeuOtTVPm"
      },
      "execution_count": null,
      "outputs": []
    },
    {
      "cell_type": "code",
      "source": [
        "# Write a code to create a list of 5 random numbers between 1 and 100, sort it in ascending order, and print the result.\n",
        "import random\n",
        "\n",
        "random_numbers = [random.randint(1, 100) for _ in range(5)]\n",
        "random_numbers.sort()\n",
        "print(random_numbers)"
      ],
      "metadata": {
        "id": "d0AEoVfnTVMO",
        "colab": {
          "base_uri": "https://localhost:8080/"
        },
        "outputId": "39157b0c-a797-4891-9057-25e59bd5b74b"
      },
      "execution_count": 37,
      "outputs": [
        {
          "output_type": "stream",
          "name": "stdout",
          "text": [
            "[15, 20, 51, 57, 83]\n"
          ]
        }
      ]
    },
    {
      "cell_type": "code",
      "source": [
        "# Write a code to create a list with strings and print the element at the third index.\n",
        "my_list = [\"apple\", \"banana\", \"cherry\", \"date\", \"elderberry\"]\n",
        "print(my_list[2]) # Remember that list indices start at 0"
      ],
      "metadata": {
        "id": "o2HNIrm6TVHk",
        "colab": {
          "base_uri": "https://localhost:8080/"
        },
        "outputId": "022acfd8-9420-46f0-f962-5c0817fd1369"
      },
      "execution_count": 38,
      "outputs": [
        {
          "output_type": "stream",
          "name": "stdout",
          "text": [
            "cherry\n"
          ]
        }
      ]
    },
    {
      "cell_type": "code",
      "source": [
        "#  Write a code to combine two dictionaries into one and print the result.\n",
        "dict1 = {\"a\": 1, \"b\": 2}\n",
        "dict2 = {\"c\": 3, \"d\": 4}\n",
        "\n",
        "combined_dict = {**dict1, **dict2}\n",
        "print(combined_dict)"
      ],
      "metadata": {
        "id": "pNuJ--bYTVBk",
        "colab": {
          "base_uri": "https://localhost:8080/"
        },
        "outputId": "15a016e1-52bd-43ca-c1ae-809386efca6a"
      },
      "execution_count": 41,
      "outputs": [
        {
          "output_type": "stream",
          "name": "stdout",
          "text": [
            "{'a': 1, 'b': 2, 'c': 3, 'd': 4}\n"
          ]
        }
      ]
    },
    {
      "cell_type": "code",
      "source": [
        "# Write a code to convert a list of strings into a set.\n",
        "my_list = [\"apple\", \"banana\", \"cherry\", \"apple\"]\n",
        "my_set = set(my_list)\n",
        "print(my_set)"
      ],
      "metadata": {
        "id": "hnEX6Y2BTPzd",
        "colab": {
          "base_uri": "https://localhost:8080/"
        },
        "outputId": "7e9f2ad0-e5e2-4b53-a097-3062b5804a5c"
      },
      "execution_count": 44,
      "outputs": [
        {
          "output_type": "stream",
          "name": "stdout",
          "text": [
            "{'cherry', 'apple', 'banana'}\n"
          ]
        }
      ]
    }
  ]
}